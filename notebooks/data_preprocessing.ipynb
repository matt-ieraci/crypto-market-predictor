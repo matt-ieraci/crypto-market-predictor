{
 "cells": [
  {
   "cell_type": "code",
   "execution_count": 46,
   "metadata": {},
   "outputs": [],
   "source": [
    "import pandas as pd"
   ]
  },
  {
   "cell_type": "code",
   "execution_count": 38,
   "metadata": {},
   "outputs": [],
   "source": [
    "# Fix column names to be more descriptive\n",
    "column_names = {\n",
    "    \"0\" : \"Open Time\",\n",
    "    \"1\" : \"Open\",\n",
    "    \"2\" : \"High\",\n",
    "    \"3\" : \"Low\",\n",
    "    \"4\" : \"Close\",\n",
    "    \"5\" : \"Volume\",\n",
    "    \"6\" : \"Close Time\",\n",
    "    \"7\" : \"Quote Asset Volume\",\n",
    "    \"8\" : \"Number of Trades\",\n",
    "    \"9\" : \"Taker Buy Base Asset Volume\",\n",
    "    \"10\" : \"Taker Buy Quote Asset Volume\",\n",
    "    \"11\" : \"Ignore\"\n",
    "}"
   ]
  },
  {
   "cell_type": "code",
   "execution_count": 39,
   "metadata": {},
   "outputs": [],
   "source": [
    "symbols = ['BTCUSDT', 'ETHUSDT', 'SOLUSDT']"
   ]
  },
  {
   "cell_type": "code",
   "execution_count": 40,
   "metadata": {},
   "outputs": [],
   "source": [
    "# Loop through files and fix headers and timestamp values\n",
    "for symbol in symbols:\n",
    "    data = pd.read_csv(f'../data/raw/{symbol}_api_data.csv')\n",
    "    df = data.rename(columns=column_names)\n",
    "    df['Open Time'] = pd.to_datetime(df['Open Time'], unit='ms')\n",
    "    df['Close Time'] = pd.to_datetime(df['Close Time'], unit='ms')\n",
    "    df.to_csv(f'../data/raw/{symbol}_api_data.csv')"
   ]
  },
  {
   "cell_type": "code",
   "execution_count": 41,
   "metadata": {},
   "outputs": [
    {
     "data": {
      "text/plain": [
       "Open Time                       0\n",
       "Open                            0\n",
       "High                            0\n",
       "Low                             0\n",
       "Close                           0\n",
       "Volume                          0\n",
       "Close Time                      0\n",
       "Quote Asset Volume              0\n",
       "Number of Trades                0\n",
       "Taker Buy Base Asset Volume     0\n",
       "Taker Buy Quote Asset Volume    0\n",
       "Ignore                          0\n",
       "dtype: int64"
      ]
     },
     "execution_count": 41,
     "metadata": {},
     "output_type": "execute_result"
    }
   ],
   "source": [
    "df.isnull().sum()"
   ]
  },
  {
   "cell_type": "code",
   "execution_count": null,
   "metadata": {},
   "outputs": [],
   "source": []
  },
  {
   "cell_type": "code",
   "execution_count": null,
   "metadata": {},
   "outputs": [],
   "source": []
  },
  {
   "cell_type": "code",
   "execution_count": null,
   "metadata": {},
   "outputs": [],
   "source": []
  }
 ],
 "metadata": {
  "kernelspec": {
   "display_name": "crypto-predictor",
   "language": "python",
   "name": "python3"
  },
  "language_info": {
   "codemirror_mode": {
    "name": "ipython",
    "version": 3
   },
   "file_extension": ".py",
   "mimetype": "text/x-python",
   "name": "python",
   "nbconvert_exporter": "python",
   "pygments_lexer": "ipython3",
   "version": "3.10.6"
  }
 },
 "nbformat": 4,
 "nbformat_minor": 2
}
